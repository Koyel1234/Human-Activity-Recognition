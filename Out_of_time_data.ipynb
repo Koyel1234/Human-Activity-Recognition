{
 "cells": [
  {
   "cell_type": "code",
   "execution_count": 1,
   "id": "ea402067",
   "metadata": {},
   "outputs": [],
   "source": [
    "import pandas as pd\n",
    "import numpy as np\n",
    "from sklearn.linear_model import LogisticRegression\n",
    "from sklearn.metrics import accuracy_score\n",
    "from sklearn.svm import SVC\n",
    "from sklearn.ensemble import RandomForestClassifier\n",
    "from sklearn.model_selection import train_test_split\n",
    "from sklearn.metrics import confusion_matrix\n",
    "from sklearn.metrics import classification_report"
   ]
  },
  {
   "cell_type": "code",
   "execution_count": 2,
   "id": "e7fc3d92",
   "metadata": {},
   "outputs": [],
   "source": [
    "d9=pd.read_csv('p9_features.csv')\n",
    "d10=pd.read_csv('p10_features.csv')"
   ]
  },
  {
   "cell_type": "code",
   "execution_count": 3,
   "id": "4502e021",
   "metadata": {},
   "outputs": [],
   "source": [
    "d9.replace('walking',0,inplace=True)\n",
    "d9.replace('standing',1,inplace=True)\n",
    "d9.replace('jogging',2,inplace=True)\n",
    "d9.replace('sitting',3,inplace=True)\n",
    "d9.replace('biking',4,inplace=True)\n",
    "d9.replace('upstairs',5,inplace=True)\n",
    "d9.replace('downstairs',6,inplace=True)"
   ]
  },
  {
   "cell_type": "code",
   "execution_count": 4,
   "id": "f8f8d7f5",
   "metadata": {},
   "outputs": [],
   "source": [
    "d10.replace('walking',0,inplace=True)\n",
    "d10.replace('standing',1,inplace=True)\n",
    "d10.replace('jogging',2,inplace=True)\n",
    "d10.replace('sitting',3,inplace=True)\n",
    "d10.replace('biking',4,inplace=True)\n",
    "d10.replace('upstairs',5,inplace=True)\n",
    "d10.replace('downstairs',6,inplace=True)"
   ]
  },
  {
   "cell_type": "code",
   "execution_count": 5,
   "id": "fbeb329a",
   "metadata": {},
   "outputs": [],
   "source": [
    "d9.drop([\"ID\"],axis=1,inplace=True)\n",
    "d10.drop([\"ID\"],axis=1,inplace=True)"
   ]
  },
  {
   "cell_type": "code",
   "execution_count": 6,
   "id": "a4f537e8",
   "metadata": {},
   "outputs": [],
   "source": [
    "features_excluded = ['z_kurtosis_fft_Gyro',\n",
    " 'z_peak_count_fft_Gyro',\n",
    " 'x_argmax_Lin',\n",
    " 'x_argmin_fft_Gyro',\n",
    " 'y_median_Gyro',\n",
    " 'z_argmax_fft_Lin',\n",
    " 'y_energy_fft_Lin',\n",
    " 'x_mean_fft_Gyro',\n",
    " 'y_maxmin_diff_fft_Acc',\n",
    " 'y_mean_fft_Gyro',\n",
    " 'z_maxmin_diff_fft_Acc',\n",
    " 'y_aad_Lin',\n",
    " 'y_energy_Gyro',\n",
    " 'x_kurtosis_Acc',\n",
    " 'z_above_mean_Lin',\n",
    " 'y_IQR_Acc',\n",
    " 'z_mean_fft_Lin',\n",
    " 'z_aad_Lin',\n",
    " 'z_mad_Acc',\n",
    " 'x_min_Lin',\n",
    " 'x_IQR_fft_Acc',\n",
    " 'z_std_fft_Lin',\n",
    " 'x_peak_count_fft_Acc',\n",
    " 'x_median_fft_Gyro',\n",
    " 'x_max_Gyro',\n",
    " 'x_std_fft_Gyro',\n",
    " 'z_energy_Lin',\n",
    " 'x_kurtosis_fft_Gyro',\n",
    " 'x_mad_Gyro',\n",
    " 'y_min_Gyro',\n",
    " 'x_IQR_Acc',\n",
    " 'x_mad_fft_Acc',\n",
    " 'x_mad_Acc',\n",
    " 'z_IQR_fft_Acc',\n",
    " 'z_argmax_Lin',\n",
    " 'x_kurtosis_fft_Lin',\n",
    " 'z_argmax_Gyro',\n",
    " 'z_argmax_fft_Acc',\n",
    " 'x_argmax_fft_Acc',\n",
    " 'z_energy_fft_Gyro',\n",
    " 'y_aad_Gyro',\n",
    " 'x_mean_fft_Lin',\n",
    " 'y_median_fft_Acc',\n",
    " 'y_max_fft_Gyro',\n",
    " 'y_std_Lin',\n",
    " 'z_energy_Acc',\n",
    " 'z_max_Gyro',\n",
    " 'y_arg_diff_fft_Lin',\n",
    " 'x_median_fft_Acc',\n",
    " 'z_pos_count_Lin',\n",
    " 'x_max_Acc',\n",
    " 'x_max_fft_Gyro',\n",
    " 'z_mad_Lin',\n",
    " 'y_std_fft_Gyro',\n",
    " 'z_std_fft_Acc',\n",
    " 'x_max_Lin',\n",
    " 'y_above_mean_Lin',\n",
    " 'z_arg_diff_Lin',\n",
    " 'x_arg_diff_Gyro',\n",
    " 'z_IQR_Acc',\n",
    " 'x_IQR_Gyro',\n",
    " 'x_median_fft_Lin',\n",
    " 'x_argmax_Acc',\n",
    " 'y_min_Lin',\n",
    " 'x_std_fft_Lin',\n",
    " 'x_IQR_fft_Lin',\n",
    " 'y_mean_fft_Acc',\n",
    " 'x_peak_count_fft_Lin',\n",
    " 'z_maxmin_diff_Lin',\n",
    " 'x_pos_count_Gyro',\n",
    " 'x_maxmin_diff_Gyro',\n",
    " 'y_aad_fft_Acc',\n",
    " 'y_median_Lin',\n",
    " 'x_aad_fft_Gyro',\n",
    " 'y_median_fft_Lin',\n",
    " 'z_pos_count_Acc',\n",
    " 'y_energy_fft_Gyro',\n",
    " 'z_aad_Acc',\n",
    " 'y_std_Acc',\n",
    " 'z_std_Acc',\n",
    " 'y_mad_Lin',\n",
    " 'z_argmin_Gyro',\n",
    " 'x_IQR_Lin',\n",
    " 'x_std_Gyro',\n",
    " 'z_argmax_Acc',\n",
    " 'z_maxmin_diff_fft_Gyro',\n",
    " 'x_maxmin_diff_Lin',\n",
    " 'z_above_mean_Gyro',\n",
    " 'z_median_fft_Gyro',\n",
    " 'z_energy_fft_Acc',\n",
    " 'x_argmin_Gyro',\n",
    " 'y_mad_Acc',\n",
    " 'x_mad_fft_Gyro',\n",
    " 'y_std_fft_Lin',\n",
    " 'y_argmax_fft_Lin',\n",
    " 'y_neg_count_Acc',\n",
    " 'avg_result_Gyro',\n",
    " 'y_peak_count_Lin',\n",
    " 'y_std_fft_Acc',\n",
    " 'y_mad_Gyro',\n",
    " 'y_peak_count_fft_Gyro',\n",
    " 'y_argmax_fft_Gyro',\n",
    " 'z_arg_diff_fft_Acc',\n",
    " 'z_maxmin_diff_fft_Lin',\n",
    " 'z_aad_fft_Lin',\n",
    " 'z_max_Lin',\n",
    " 'x_energy_fft_Lin',\n",
    " 'x_maxmin_diff_fft_Lin',\n",
    " 'y_pos_count_Acc',\n",
    " 'z_median_fft_Acc',\n",
    " 'z_std_Gyro',\n",
    " 'x_arg_diff_fft_Lin',\n",
    " 'x_kurtosis_fft_Acc',\n",
    " 'y_IQR_Lin',\n",
    " 'z_mad_Gyro',\n",
    " 'z_IQR_fft_Lin',\n",
    " 'y_mad_fft_Gyro',\n",
    " 'y_argmax_fft_Acc',\n",
    " 'y_median_Acc',\n",
    " 'y_mad_fft_Lin',\n",
    " 'x_argmax_Gyro',\n",
    " 'y_argmin_Lin',\n",
    " 'x_aad_fft_Acc',\n",
    " 'avg_result_Lin',\n",
    " 'x_pos_count_Acc',\n",
    " 'x_peak_count_Lin',\n",
    " 'y_maxmin_diff_fft_Lin',\n",
    " 'y_std_Gyro',\n",
    " 'z_mean_fft_Gyro',\n",
    " 'y_aad_fft_Gyro',\n",
    " 'y_arg_diff_fft_Gyro',\n",
    " 'z_mean_Acc',\n",
    " 'z_argmin_fft_Gyro',\n",
    " 'y_mad_fft_Acc',\n",
    " 'y_energy_Lin',\n",
    " 'y_argmin_fft_Acc',\n",
    " 'z_kurtosis_fft_Acc',\n",
    " 'y_max_Lin',\n",
    " 'z_aad_fft_Gyro',\n",
    " 'x_argmin_fft_Acc',\n",
    " 'avg_result_Accl_fft_Gyro',\n",
    " 'y_argmin_fft_Lin',\n",
    " 'x_argmax_fft_Gyro',\n",
    " 'sma_Gyro',\n",
    " 'x_argmin_Acc',\n",
    " 'x_aad_Gyro',\n",
    " 'z_min_Gyro',\n",
    " 'x_maxmin_diff_fft_Acc',\n",
    " 'z_pos_count_Gyro',\n",
    " 'y_maxmin_diff_Lin',\n",
    " 'x_peak_count_fft_Gyro',\n",
    " 'x_max_fft_Lin',\n",
    " 'z_energy_fft_Lin',\n",
    " 'x_pos_count_Lin',\n",
    " 'x_median_Acc',\n",
    " 'z_median_Acc',\n",
    " 'x_arg_diff_fft_Acc',\n",
    " 'z_peak_count_Lin',\n",
    " 'y_maxmin_diff_Gyro',\n",
    " 'x_std_Lin',\n",
    " 'z_argmin_Lin',\n",
    " 'x_above_mean_Acc',\n",
    " 'y_max_Gyro',\n",
    " 'y_maxmin_diff_fft_Gyro',\n",
    " 'x_energy_fft_Gyro',\n",
    " 'x_mad_Lin',\n",
    " 'x_maxmin_diff_Acc',\n",
    " 'y_pos_count_Lin',\n",
    " 'sma_fft_Gyro',\n",
    " 'y_max_fft_Lin',\n",
    " 'y_kurtosis_fft_Gyro',\n",
    " 'z_energy_Gyro',\n",
    " 'z_arg_diff_fft_Lin',\n",
    " 'y_arg_diff_fft_Acc',\n",
    " 'x_energy_fft_Acc',\n",
    " 'z_max_fft_Gyro',\n",
    " 'x_aad_Lin',\n",
    " 'y_aad_fft_Lin',\n",
    " 'z_argmin_fft_Lin',\n",
    " 'y_argmin_Gyro',\n",
    " 'avg_result_Accl_fft_Lin',\n",
    " 'y_max_fft_Acc',\n",
    " 'y_kurtosis_fft_Acc',\n",
    " 'z_skewness_Lin',\n",
    " 'z_max_Acc',\n",
    " 'x_argmin_fft_Lin',\n",
    " 'z_mad_fft_Gyro',\n",
    " 'z_aad_fft_Acc',\n",
    " 'x_arg_diff_fft_Gyro',\n",
    " 'z_max_fft_Lin',\n",
    " 'sma_fft_Acc',\n",
    " 'x_aad_Acc',\n",
    " 'y_argmin_fft_Gyro',\n",
    " 'z_median_fft_Lin',\n",
    " 'y_IQR_fft_Acc',\n",
    " 'y_energy_fft_Acc',\n",
    " 'y_peak_count_fft_Lin',\n",
    " 'z_kurtosis_fft_Lin',\n",
    " 'x_energy_Lin',\n",
    " 'x_mean_fft_Acc',\n",
    " 'x_above_mean_Lin',\n",
    " 'x_min_Gyro',\n",
    " 'x_std_fft_Acc',\n",
    " 'y_mean_fft_Lin',\n",
    " 'y_IQR_Gyro',\n",
    " 'y_arg_diff_Lin',\n",
    " 'z_aad_Gyro',\n",
    " 'z_IQR_Gyro',\n",
    " 'x_aad_fft_Lin',\n",
    " 'z_peak_count_fft_Acc',\n",
    " 'z_arg_diff_Gyro',\n",
    " 'z_std_fft_Gyro',\n",
    " 'z_kurtosis_Acc',\n",
    " 'x_argmin_Lin',\n",
    " 'x_maxmin_diff_fft_Gyro',\n",
    " 'y_argmin_Acc',\n",
    " 'avg_result_Accl_fft_Acc',\n",
    " 'x_min_Acc',\n",
    " 'x_mad_fft_Lin',\n",
    " 'z_argmin_Acc',\n",
    " 'y_pos_count_Gyro',\n",
    " 'x_argmax_fft_Lin',\n",
    " 'y_skewness_Lin',\n",
    " 'z_maxmin_diff_Gyro',\n",
    " 'z_mad_fft_Acc',\n",
    " 'z_median_Lin',\n",
    " 'y_argmax_Acc',\n",
    " 'y_median_fft_Gyro',\n",
    " 'sma_Lin',\n",
    " 'x_energy_Gyro',\n",
    " 'z_mad_fft_Lin',\n",
    " 'y_IQR_fft_Lin',\n",
    " 'z_std_Lin',\n",
    " 'y_maxmin_diff_Acc',\n",
    " 'z_mean_fft_Acc',\n",
    " 'y_argmax_Gyro',\n",
    " 'z_IQR_Lin',\n",
    " 'y_IQR_fft_Gyro',\n",
    " 'z_min_Lin',\n",
    " 'sma_fft_Lin',\n",
    " 'z_max_fft_Acc',\n",
    " 'z_argmin_fft_Acc',\n",
    " 'z_maxmin_diff_Acc',\n",
    " 'y_arg_diff_Gyro',\n",
    " 'y_argmax_Lin',\n",
    " 'y_peak_count_fft_Acc',\n",
    " 'z_peak_count_fft_Lin',\n",
    " 'z_argmax_fft_Gyro',\n",
    " 'y_aad_Acc',\n",
    " 'x_max_fft_Acc',\n",
    " 'x_skewness_Lin',\n",
    " 'y_kurtosis_fft_Lin',\n",
    " 'y_energy_Acc']"
   ]
  },
  {
   "cell_type": "code",
   "execution_count": 7,
   "id": "455555cd",
   "metadata": {},
   "outputs": [
    {
     "data": {
      "text/plain": [
       "253"
      ]
     },
     "execution_count": 7,
     "metadata": {},
     "output_type": "execute_result"
    }
   ],
   "source": [
    "len(features_excluded)"
   ]
  },
  {
   "cell_type": "code",
   "execution_count": 8,
   "id": "82619fa2",
   "metadata": {},
   "outputs": [],
   "source": [
    "d9.drop(features_excluded,axis=1,inplace=True)\n",
    "d10.drop(features_excluded,axis=1,inplace=True)"
   ]
  },
  {
   "cell_type": "code",
   "execution_count": 9,
   "id": "6a742985",
   "metadata": {},
   "outputs": [
    {
     "name": "stdout",
     "output_type": "stream",
     "text": [
      "84 84\n"
     ]
    }
   ],
   "source": [
    "print(len(d9.columns),len(d10.columns))"
   ]
  },
  {
   "cell_type": "code",
   "execution_count": 10,
   "id": "747cf49e",
   "metadata": {},
   "outputs": [],
   "source": [
    "# spliting both datasets into dependent and independent set\n",
    "X9 = d9.iloc[:,0:335]\n",
    "y9 = d9['label_of_activity'] \n",
    "\n",
    "X10 = d10.iloc[:,0:335]\n",
    "y10 = d10['label_of_activity']\n"
   ]
  },
  {
   "cell_type": "code",
   "execution_count": null,
   "id": "638e4573",
   "metadata": {},
   "outputs": [],
   "source": []
  },
  {
   "cell_type": "code",
   "execution_count": 17,
   "id": "48643234",
   "metadata": {},
   "outputs": [],
   "source": [
    "# scale each dataset eperately\n",
    "from sklearn.preprocessing import MinMaxScaler\n",
    "\n",
    "scaler9 = MinMaxScaler()\n",
    "X9[list(X9.columns)] = scaler9.fit_transform(X9[list(X9.columns)])\n",
    "X9=pd.DataFrame(X9)\n",
    "\n",
    "\n",
    "scaler10 = MinMaxScaler()\n",
    "X10[list(X10.columns)] = scaler10.fit_transform(X10[list(X10.columns)])\n",
    "X10=pd.DataFrame(X10)"
   ]
  },
  {
   "cell_type": "markdown",
   "id": "31a9eee9",
   "metadata": {},
   "source": [
    "# Importing pickle"
   ]
  },
  {
   "cell_type": "code",
   "execution_count": 18,
   "id": "55580698",
   "metadata": {},
   "outputs": [
    {
     "name": "stdout",
     "output_type": "stream",
     "text": [
      "Accuracy from first out of time data:  0.9832935560859188\n",
      "Accuracy from second out of time data:  0.9436754176610979\n"
     ]
    }
   ],
   "source": [
    "import pickle\n",
    "#Use the loaded pickled model to make predictions\n",
    "# Load the pickled model\n",
    "#loaded_model = pickle.loads(model)\n",
    "with open('model.pickle', 'rb') as fp:\n",
    "    loaded_model = pickle.load(fp)\n",
    " \n",
    "\n",
    "loaded_model.predict(X9)\n",
    "print(\"Accuracy from first out of time data: \", accuracy_score(y9, loaded_model.predict(X9)))\n",
    "\n",
    "loaded_model.predict(X10)\n",
    "print(\"Accuracy from second out of time data: \", accuracy_score(y10, loaded_model.predict(X10)))"
   ]
  },
  {
   "cell_type": "code",
   "execution_count": 19,
   "id": "a0c4e537",
   "metadata": {},
   "outputs": [
    {
     "data": {
      "text/plain": [
       "array([[298,   0,   0,   0,   0,   0,   0],\n",
       "       [  0, 300,   0,   0,   0,   0,   0],\n",
       "       [  0,   0, 300,   0,   0,   0,   0],\n",
       "       [  0,   4,   1, 294,   1,   0,   0],\n",
       "       [  0,   0,   0,   4, 296,   0,   0],\n",
       "       [  0,   6,   0,   0,   3, 290,   1],\n",
       "       [  0,   0,   0,   0,   1,  14, 282]], dtype=int64)"
      ]
     },
     "execution_count": 19,
     "metadata": {},
     "output_type": "execute_result"
    }
   ],
   "source": [
    "confusion_matrix(y9, loaded_model.predict(X9))"
   ]
  },
  {
   "cell_type": "code",
   "execution_count": 20,
   "id": "b1846add",
   "metadata": {},
   "outputs": [
    {
     "name": "stdout",
     "output_type": "stream",
     "text": [
      "              precision    recall  f1-score   support\n",
      "\n",
      "           0       1.00      1.00      1.00       298\n",
      "           1       0.97      1.00      0.98       300\n",
      "           2       1.00      1.00      1.00       300\n",
      "           3       0.99      0.98      0.98       300\n",
      "           4       0.98      0.99      0.99       300\n",
      "           5       0.95      0.97      0.96       300\n",
      "           6       1.00      0.95      0.97       297\n",
      "\n",
      "    accuracy                           0.98      2095\n",
      "   macro avg       0.98      0.98      0.98      2095\n",
      "weighted avg       0.98      0.98      0.98      2095\n",
      "\n"
     ]
    }
   ],
   "source": [
    "print(classification_report(y9, loaded_model.predict(X9)))"
   ]
  },
  {
   "cell_type": "code",
   "execution_count": 21,
   "id": "9156c9ab",
   "metadata": {},
   "outputs": [
    {
     "data": {
      "text/plain": [
       "array([[295,   3,   0,   0,   0,   0,   0],\n",
       "       [  0, 299,   1,   0,   0,   0,   0],\n",
       "       [  0,   0, 300,   0,   0,   0,   0],\n",
       "       [  0,   1,   0, 286,  13,   0,   0],\n",
       "       [  0,   0,   0,   0, 300,   0,   0],\n",
       "       [  0,   0,   0,   0,   2, 298,   0],\n",
       "       [  0,   0,   0,   0,   3,  95, 199]], dtype=int64)"
      ]
     },
     "execution_count": 21,
     "metadata": {},
     "output_type": "execute_result"
    }
   ],
   "source": [
    "confusion_matrix(y10, loaded_model.predict(X10))"
   ]
  },
  {
   "cell_type": "code",
   "execution_count": 22,
   "id": "0ea0ef1b",
   "metadata": {},
   "outputs": [
    {
     "name": "stdout",
     "output_type": "stream",
     "text": [
      "              precision    recall  f1-score   support\n",
      "\n",
      "           0       1.00      0.99      0.99       298\n",
      "           1       0.99      1.00      0.99       300\n",
      "           2       1.00      1.00      1.00       300\n",
      "           3       1.00      0.95      0.98       300\n",
      "           4       0.94      1.00      0.97       300\n",
      "           5       0.76      0.99      0.86       300\n",
      "           6       1.00      0.67      0.80       297\n",
      "\n",
      "    accuracy                           0.94      2095\n",
      "   macro avg       0.96      0.94      0.94      2095\n",
      "weighted avg       0.95      0.94      0.94      2095\n",
      "\n"
     ]
    }
   ],
   "source": [
    "print(classification_report(y10, loaded_model.predict(X10)))"
   ]
  }
 ],
 "metadata": {
  "kernelspec": {
   "display_name": "Python 3",
   "language": "python",
   "name": "python3"
  },
  "language_info": {
   "codemirror_mode": {
    "name": "ipython",
    "version": 3
   },
   "file_extension": ".py",
   "mimetype": "text/x-python",
   "name": "python",
   "nbconvert_exporter": "python",
   "pygments_lexer": "ipython3",
   "version": "3.8.8"
  }
 },
 "nbformat": 4,
 "nbformat_minor": 5
}
